{
 "cells": [
  {
   "cell_type": "markdown",
   "id": "dde8b5d5-5bba-4266-8521-3e3e163bef3a",
   "metadata": {},
   "source": [
    "# Handling multi-dimensional arrays with xarray"
   ]
  },
  {
   "cell_type": "markdown",
   "id": "ec37ef0f-da32-40c7-8320-467c46bfab6a",
   "metadata": {},
   "source": [
    "<div class=\"alert alert-info\">\n",
    "<i class=\"fa-question-circle fa\" style=\"font-size: 22px;color:#666;\"></i> Overview\n",
    "    <br>\n",
    "    <br>\n",
    "    <b>Questions</b>\n",
    "    <ul>\n",
    "        <li>What is Xarray?</li>\n",
    "        <li>How to open a local file?</li>\n",
    "        <li>How to print metadata information?</li>\n",
    "        <li>How to make a selection?</li>\n",
    "        <li>How to visualize with matplotlib?</li>\n",
    "        <li>How to mask data?</li>\n",
    "    </ul>\n",
    "    <b>Objectives</b>\n",
    "    <ul>\n",
    "        <li>Learn about Xarray Python ecosystem</li>\n",
    "        <li>Learn file handling with xarray</li>\n",
    "        <li>Learn to get metadata information</li>\n",
    "        <li>Learn to select and mask data?</li>\n",
    "        <li>Learnn to visualize data</li>\n",
    "    </ul>\n",
    "</div>"
   ]
  },
  {
   "cell_type": "code",
   "execution_count": null,
   "id": "e0d95341-2602-482e-88c1-39fb7ae2b846",
   "metadata": {},
   "outputs": [],
   "source": []
  },
  {
   "cell_type": "code",
   "execution_count": null,
   "id": "3560c1ae-3aca-4717-bb4c-c754ad9bbe32",
   "metadata": {},
   "outputs": [],
   "source": []
  }
 ],
 "metadata": {
  "kernelspec": {
   "display_name": "Python 3 (ipykernel)",
   "language": "python",
   "name": "python3"
  },
  "language_info": {
   "codemirror_mode": {
    "name": "ipython",
    "version": 3
   },
   "file_extension": ".py",
   "mimetype": "text/x-python",
   "name": "python",
   "nbconvert_exporter": "python",
   "pygments_lexer": "ipython3",
   "version": "3.9.7"
  }
 },
 "nbformat": 4,
 "nbformat_minor": 5
}
