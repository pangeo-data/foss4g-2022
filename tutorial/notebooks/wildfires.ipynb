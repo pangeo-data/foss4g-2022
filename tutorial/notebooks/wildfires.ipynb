{
 "cells": [
  {
   "cell_type": "markdown",
   "id": "1f29d01a-ab3d-4de7-ad41-0646f610988c",
   "metadata": {},
   "source": [
    "# Burn severity maps using Sentinel-2 Cloud-Optimised Dataset"
   ]
  },
  {
   "cell_type": "code",
   "execution_count": null,
   "id": "84f02ac8-623c-4ffd-9d1d-89a4bc1ac54f",
   "metadata": {},
   "outputs": [],
   "source": []
  }
 ],
 "metadata": {
  "kernelspec": {
   "display_name": "Python 3 (ipykernel)",
   "language": "python",
   "name": "python3"
  },
  "language_info": {
   "codemirror_mode": {
    "name": "ipython",
    "version": 3
   },
   "file_extension": ".py",
   "mimetype": "text/x-python",
   "name": "python",
   "nbconvert_exporter": "python",
   "pygments_lexer": "ipython3",
   "version": "3.9.7"
  }
 },
 "nbformat": 4,
 "nbformat_minor": 5
}
