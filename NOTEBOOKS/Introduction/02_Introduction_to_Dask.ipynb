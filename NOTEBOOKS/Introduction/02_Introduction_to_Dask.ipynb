{
 "cells": [
  {
   "cell_type": "code",
   "execution_count": null,
   "outputs": [],
   "source": [
    "import pandas as pd\n",
    "import xarray as xr\n",
    "import numpy as np\n",
    "import holoviews as hv\n",
    "import hvplot.xarray\n",
    "import zarr"
   ],
   "metadata": {
    "collapsed": false,
    "pycharm": {
     "name": "#%%\n"
    }
   }
  },
  {
   "cell_type": "code",
   "execution_count": 21,
   "outputs": [
    {
     "name": "stdout",
     "output_type": "stream",
     "text": [
      "no stored variable or alias AOI_max_lat\n",
      "no stored variable or alias AOI_min_lat\n",
      "no stored variable or alias AOI_min_lon\n",
      "no stored variable or alias AOI_max_lon\n"
     ]
    }
   ],
   "source": [
    "%store -r AOI_max_lat\n",
    "%store -r AOI_min_lat\n",
    "%store -r AOI_min_lon\n",
    "%store -r AOI_max_lon\n",
    "%store -r AOI_poly\n",
    "%store -r POI_lat\n",
    "%store -r POI_lon\n",
    "%store -r AOI_name\n",
    "%store -r NDVI_AOI_interp\n"
   ],
   "metadata": {
    "collapsed": false,
    "pycharm": {
     "name": "#%%\n"
    }
   }
  },
  {
   "cell_type": "markdown",
   "source": [
    "#### Introduction to the Long Term statistics"
   ],
   "metadata": {
    "collapsed": false,
    "pycharm": {
     "name": "#%% md\n"
    }
   }
  },
  {
   "cell_type": "code",
   "execution_count": 3,
   "outputs": [],
   "source": [
    "NDVI_LTS = xr.open_dataset(rf'.\\data\\CopernicusGlobalLand\\LTS\\c_gls_NDVI-LTS_1999-2019-0101_GLOBE_VGT-PROBAV_V3.0.1.nc')"
   ],
   "metadata": {
    "collapsed": false,
    "pycharm": {
     "name": "#%%\n"
    }
   }
  },
  {
   "cell_type": "code",
   "execution_count": null,
   "outputs": [],
   "source": [
    "LTS = xr.open_mfdataset(rf'.\\data\\CopernicusGlobalLand\\LTS\\*.nc', combine='nested', concat_dim=['time'], decode_coords=\"all\")"
   ],
   "metadata": {
    "collapsed": false,
    "pycharm": {
     "name": "#%%\n"
    }
   }
  },
  {
   "cell_type": "markdown",
   "source": [
    "Note! If you use one of xarray’s open methods such as xarray.open_dataset to load netCDF files with the default engine, it is recommended to use decode_coords=”all”. This will load the grid mapping variable into coordinates for compatibility with rioxarray. From [rioxarray documentation](https://corteva.github.io/rioxarray/stable/getting_started/getting_started.html#xarray)"
   ],
   "metadata": {
    "collapsed": false,
    "pycharm": {
     "name": "#%% md\n"
    }
   }
  },
  {
   "cell_type": "code",
   "execution_count": 4,
   "outputs": [
    {
     "ename": "NameError",
     "evalue": "name 'LTS' is not defined",
     "output_type": "error",
     "traceback": [
      "\u001B[1;31m---------------------------------------------------------------------------\u001B[0m",
      "\u001B[1;31mNameError\u001B[0m                                 Traceback (most recent call last)",
      "Input \u001B[1;32mIn [4]\u001B[0m, in \u001B[0;36m<cell line: 1>\u001B[1;34m()\u001B[0m\n\u001B[1;32m----> 1\u001B[0m LTS \u001B[38;5;241m=\u001B[39m \u001B[43mLTS\u001B[49m\u001B[38;5;241m.\u001B[39mrio\u001B[38;5;241m.\u001B[39mwrite_crs(\u001B[38;5;241m4326\u001B[39m)\n",
      "\u001B[1;31mNameError\u001B[0m: name 'LTS' is not defined"
     ]
    }
   ],
   "source": [
    "LTS = LTS.rio.write_crs(4326)"
   ],
   "metadata": {
    "collapsed": false,
    "pycharm": {
     "name": "#%%\n"
    }
   }
  },
  {
   "cell_type": "code",
   "execution_count": 5,
   "outputs": [
    {
     "ename": "NameError",
     "evalue": "name 'LTS' is not defined",
     "output_type": "error",
     "traceback": [
      "\u001B[1;31m---------------------------------------------------------------------------\u001B[0m",
      "\u001B[1;31mNameError\u001B[0m                                 Traceback (most recent call last)",
      "Input \u001B[1;32mIn [5]\u001B[0m, in \u001B[0;36m<cell line: 1>\u001B[1;34m()\u001B[0m\n\u001B[1;32m----> 1\u001B[0m LTS \u001B[38;5;241m=\u001B[39m \u001B[43mLTS\u001B[49m\u001B[38;5;241m.\u001B[39msel(lat\u001B[38;5;241m=\u001B[39m\u001B[38;5;28mslice\u001B[39m(AOI_max_lat,AOI_min_lat) ,lon\u001B[38;5;241m=\u001B[39m\u001B[38;5;28mslice\u001B[39m(AOI_min_lon,AOI_max_lon))\n",
      "\u001B[1;31mNameError\u001B[0m: name 'LTS' is not defined"
     ]
    }
   ],
   "source": [
    "LTS = LTS.sel(lat=slice(AOI_max_lat,AOI_min_lat) ,lon=slice(AOI_min_lon,AOI_max_lon))"
   ],
   "metadata": {
    "collapsed": false,
    "pycharm": {
     "name": "#%%\n"
    }
   }
  },
  {
   "cell_type": "code",
   "execution_count": 6,
   "outputs": [
    {
     "ename": "NameError",
     "evalue": "name 'LTS' is not defined",
     "output_type": "error",
     "traceback": [
      "\u001B[1;31m---------------------------------------------------------------------------\u001B[0m",
      "\u001B[1;31mNameError\u001B[0m                                 Traceback (most recent call last)",
      "Input \u001B[1;32mIn [6]\u001B[0m, in \u001B[0;36m<cell line: 1>\u001B[1;34m()\u001B[0m\n\u001B[1;32m----> 1\u001B[0m LTS \u001B[38;5;241m=\u001B[39m \u001B[43mLTS\u001B[49m\u001B[38;5;241m.\u001B[39mrio\u001B[38;5;241m.\u001B[39mclip(AOI_poly, crs\u001B[38;5;241m=\u001B[39m\u001B[38;5;241m4326\u001B[39m)\n",
      "\u001B[1;31mNameError\u001B[0m: name 'LTS' is not defined"
     ]
    }
   ],
   "source": [
    "LTS = LTS.rio.clip(AOI_poly, crs=4326)"
   ],
   "metadata": {
    "collapsed": false,
    "pycharm": {
     "name": "#%%\n"
    }
   }
  },
  {
   "cell_type": "code",
   "execution_count": 7,
   "outputs": [
    {
     "ename": "NameError",
     "evalue": "name 'LTS' is not defined",
     "output_type": "error",
     "traceback": [
      "\u001B[1;31m---------------------------------------------------------------------------\u001B[0m",
      "\u001B[1;31mNameError\u001B[0m                                 Traceback (most recent call last)",
      "Input \u001B[1;32mIn [7]\u001B[0m, in \u001B[0;36m<cell line: 1>\u001B[1;34m()\u001B[0m\n\u001B[1;32m----> 1\u001B[0m LTS \u001B[38;5;241m=\u001B[39m \u001B[43mLTS\u001B[49m\u001B[38;5;241m.\u001B[39mchunk({\u001B[38;5;124m'\u001B[39m\u001B[38;5;124mtime\u001B[39m\u001B[38;5;124m'\u001B[39m:\u001B[38;5;241m-\u001B[39m\u001B[38;5;241m1\u001B[39m, \u001B[38;5;124m'\u001B[39m\u001B[38;5;124mlat\u001B[39m\u001B[38;5;124m'\u001B[39m:\u001B[38;5;124m'\u001B[39m\u001B[38;5;124m5MB\u001B[39m\u001B[38;5;124m'\u001B[39m, \u001B[38;5;124m'\u001B[39m\u001B[38;5;124mlon\u001B[39m\u001B[38;5;124m'\u001B[39m:\u001B[38;5;124m'\u001B[39m\u001B[38;5;124m5MB\u001B[39m\u001B[38;5;124m'\u001B[39m})\n",
      "\u001B[1;31mNameError\u001B[0m: name 'LTS' is not defined"
     ]
    }
   ],
   "source": [
    "LTS = LTS.chunk({'time':-1, 'lat':'5MB', 'lon':'5MB'})"
   ],
   "metadata": {
    "collapsed": false,
    "pycharm": {
     "name": "#%%\n"
    }
   }
  },
  {
   "cell_type": "code",
   "execution_count": 8,
   "outputs": [],
   "source": [
    "dates_2022 = pd.date_range('20220101', '20221231')"
   ],
   "metadata": {
    "collapsed": false,
    "pycharm": {
     "name": "#%%\n"
    }
   }
  },
  {
   "cell_type": "code",
   "execution_count": 9,
   "outputs": [],
   "source": [
    "decadie = dates_2022[np.isin(dates_2022.day, [1,11,21])]"
   ],
   "metadata": {
    "collapsed": false,
    "pycharm": {
     "name": "#%%\n"
    }
   }
  },
  {
   "cell_type": "code",
   "execution_count": 10,
   "outputs": [
    {
     "ename": "NameError",
     "evalue": "name 'LTS' is not defined",
     "output_type": "error",
     "traceback": [
      "\u001B[1;31m---------------------------------------------------------------------------\u001B[0m",
      "\u001B[1;31mNameError\u001B[0m                                 Traceback (most recent call last)",
      "Input \u001B[1;32mIn [10]\u001B[0m, in \u001B[0;36m<cell line: 1>\u001B[1;34m()\u001B[0m\n\u001B[1;32m----> 1\u001B[0m LTS \u001B[38;5;241m=\u001B[39m \u001B[43mLTS\u001B[49m\u001B[38;5;241m.\u001B[39massign_coords(time\u001B[38;5;241m=\u001B[39mdecadie)\n",
      "\u001B[1;31mNameError\u001B[0m: name 'LTS' is not defined"
     ]
    }
   ],
   "source": [
    "LTS = LTS.assign_coords(time=decadie)"
   ],
   "metadata": {
    "collapsed": false,
    "pycharm": {
     "name": "#%%\n"
    }
   }
  },
  {
   "cell_type": "code",
   "execution_count": 11,
   "outputs": [
    {
     "ename": "NameError",
     "evalue": "name 'LTS' is not defined",
     "output_type": "error",
     "traceback": [
      "\u001B[1;31m---------------------------------------------------------------------------\u001B[0m",
      "\u001B[1;31mNameError\u001B[0m                                 Traceback (most recent call last)",
      "Input \u001B[1;32mIn [11]\u001B[0m, in \u001B[0;36m<cell line: 1>\u001B[1;34m()\u001B[0m\n\u001B[1;32m----> 1\u001B[0m \u001B[43mLTS\u001B[49m\u001B[38;5;241m.\u001B[39msel(lat\u001B[38;5;241m=\u001B[39mPOI_lat, lon\u001B[38;5;241m=\u001B[39mPOI_lon, method\u001B[38;5;241m=\u001B[39m\u001B[38;5;124m'\u001B[39m\u001B[38;5;124mnearest\u001B[39m\u001B[38;5;124m'\u001B[39m)[\u001B[38;5;124m'\u001B[39m\u001B[38;5;124mmin\u001B[39m\u001B[38;5;124m'\u001B[39m]\u001B[38;5;241m.\u001B[39mvalues\n",
      "\u001B[1;31mNameError\u001B[0m: name 'LTS' is not defined"
     ]
    }
   ],
   "source": [
    "LTS.sel(lat=POI_lat, lon=POI_lon, method='nearest')['min'].values"
   ],
   "metadata": {
    "collapsed": false,
    "pycharm": {
     "name": "#%%\n"
    }
   }
  },
  {
   "cell_type": "code",
   "execution_count": 12,
   "outputs": [
    {
     "ename": "NameError",
     "evalue": "name 'LTS' is not defined",
     "output_type": "error",
     "traceback": [
      "\u001B[1;31m---------------------------------------------------------------------------\u001B[0m",
      "\u001B[1;31mNameError\u001B[0m                                 Traceback (most recent call last)",
      "Input \u001B[1;32mIn [12]\u001B[0m, in \u001B[0;36m<cell line: 1>\u001B[1;34m()\u001B[0m\n\u001B[1;32m----> 1\u001B[0m \u001B[43mLTS\u001B[49m\u001B[38;5;241m.\u001B[39mto_zarr(\u001B[38;5;124mrf\u001B[39m\u001B[38;5;124m'\u001B[39m\u001B[38;5;124m.\u001B[39m\u001B[38;5;124m\\\u001B[39m\u001B[38;5;124mdata\u001B[39m\u001B[38;5;124m\\\u001B[39m\u001B[38;5;124mCopernicusGlobalLand\u001B[39m\u001B[38;5;124m\\\u001B[39m\u001B[38;5;124mLTS\u001B[39m\u001B[38;5;124m\\\u001B[39m\u001B[38;5;124mc_gls_NDVI-LTS_1999-2019-\u001B[39m\u001B[38;5;132;01m{\u001B[39;00mAOI_name\u001B[38;5;132;01m}\u001B[39;00m\u001B[38;5;124m_VGT-PROBAV_V3.zarr\u001B[39m\u001B[38;5;124m'\u001B[39m, mode\u001B[38;5;241m=\u001B[39m\u001B[38;5;124m'\u001B[39m\u001B[38;5;124mw\u001B[39m\u001B[38;5;124m'\u001B[39m, )\n",
      "\u001B[1;31mNameError\u001B[0m: name 'LTS' is not defined"
     ]
    }
   ],
   "source": [
    "LTS.to_zarr(rf'.\\data\\CopernicusGlobalLand\\LTS\\c_gls_NDVI-LTS_1999-2019-{AOI_name}_VGT-PROBAV_V3.zarr', mode='w', )"
   ],
   "metadata": {
    "collapsed": false,
    "pycharm": {
     "name": "#%%\n"
    }
   }
  },
  {
   "cell_type": "code",
   "execution_count": 13,
   "outputs": [
    {
     "ename": "NameError",
     "evalue": "name 'AOI_name' is not defined",
     "output_type": "error",
     "traceback": [
      "\u001B[1;31m---------------------------------------------------------------------------\u001B[0m",
      "\u001B[1;31mNameError\u001B[0m                                 Traceback (most recent call last)",
      "Input \u001B[1;32mIn [13]\u001B[0m, in \u001B[0;36m<cell line: 1>\u001B[1;34m()\u001B[0m\n\u001B[1;32m----> 1\u001B[0m LTS \u001B[38;5;241m=\u001B[39m xr\u001B[38;5;241m.\u001B[39mopen_zarr(\u001B[38;5;124mrf\u001B[39m\u001B[38;5;124m'\u001B[39m\u001B[38;5;124m.\u001B[39m\u001B[38;5;124m\\\u001B[39m\u001B[38;5;124mdata\u001B[39m\u001B[38;5;124m\\\u001B[39m\u001B[38;5;124mCopernicusGlobalLand\u001B[39m\u001B[38;5;124m\\\u001B[39m\u001B[38;5;124mLTS\u001B[39m\u001B[38;5;124m\\\u001B[39m\u001B[38;5;124mc_gls_NDVI-LTS_1999-2019-\u001B[39m\u001B[38;5;132;01m{\u001B[39;00mAOI_name\u001B[38;5;132;01m}\u001B[39;00m\u001B[38;5;124m_VGT-PROBAV_V3.zarr\u001B[39m\u001B[38;5;124m'\u001B[39m)\n",
      "\u001B[1;31mNameError\u001B[0m: name 'AOI_name' is not defined"
     ]
    }
   ],
   "source": [
    "LTS = xr.open_zarr(rf'.\\data\\CopernicusGlobalLand\\LTS\\c_gls_NDVI-LTS_1999-2019-{AOI_name}_VGT-PROBAV_V3.zarr')"
   ],
   "metadata": {
    "collapsed": false,
    "pycharm": {
     "name": "#%%\n"
    }
   }
  },
  {
   "cell_type": "code",
   "execution_count": 14,
   "outputs": [
    {
     "ename": "NameError",
     "evalue": "name 'LTS' is not defined",
     "output_type": "error",
     "traceback": [
      "\u001B[1;31m---------------------------------------------------------------------------\u001B[0m",
      "\u001B[1;31mNameError\u001B[0m                                 Traceback (most recent call last)",
      "Input \u001B[1;32mIn [14]\u001B[0m, in \u001B[0;36m<cell line: 1>\u001B[1;34m()\u001B[0m\n\u001B[1;32m----> 1\u001B[0m LTS_NDVI_POI \u001B[38;5;241m=\u001B[39m \u001B[43mLTS\u001B[49m\u001B[38;5;241m.\u001B[39msel(lat\u001B[38;5;241m=\u001B[39mPOI_lat, lon\u001B[38;5;241m=\u001B[39mPOI_lon, method\u001B[38;5;241m=\u001B[39m\u001B[38;5;124m'\u001B[39m\u001B[38;5;124mnearest\u001B[39m\u001B[38;5;124m'\u001B[39m)\n",
      "\u001B[1;31mNameError\u001B[0m: name 'LTS' is not defined"
     ]
    }
   ],
   "source": [
    "LTS_NDVI_POI = LTS.sel(lat=POI_lat, lon=POI_lon, method='nearest')"
   ],
   "metadata": {
    "collapsed": false,
    "pycharm": {
     "name": "#%%\n"
    }
   }
  },
  {
   "cell_type": "code",
   "execution_count": 15,
   "outputs": [
    {
     "ename": "NameError",
     "evalue": "name 'LTS_NDVI_POI' is not defined",
     "output_type": "error",
     "traceback": [
      "\u001B[1;31m---------------------------------------------------------------------------\u001B[0m",
      "\u001B[1;31mNameError\u001B[0m                                 Traceback (most recent call last)",
      "Input \u001B[1;32mIn [15]\u001B[0m, in \u001B[0;36m<cell line: 1>\u001B[1;34m()\u001B[0m\n\u001B[1;32m----> 1\u001B[0m POI_min \u001B[38;5;241m=\u001B[39m \u001B[43mLTS_NDVI_POI\u001B[49m[\u001B[38;5;124m'\u001B[39m\u001B[38;5;124mmin\u001B[39m\u001B[38;5;124m'\u001B[39m]\n\u001B[0;32m      2\u001B[0m POI_max \u001B[38;5;241m=\u001B[39m LTS_NDVI_POI[\u001B[38;5;124m'\u001B[39m\u001B[38;5;124mmax\u001B[39m\u001B[38;5;124m'\u001B[39m]\n\u001B[0;32m      3\u001B[0m POI_std \u001B[38;5;241m=\u001B[39m LTS_NDVI_POI[\u001B[38;5;124m'\u001B[39m\u001B[38;5;124mstdev\u001B[39m\u001B[38;5;124m'\u001B[39m]\n",
      "\u001B[1;31mNameError\u001B[0m: name 'LTS_NDVI_POI' is not defined"
     ]
    }
   ],
   "source": [
    "POI_min = LTS_NDVI_POI['min']\n",
    "POI_max = LTS_NDVI_POI['max']\n",
    "POI_std = LTS_NDVI_POI['stdev']\n",
    "POI_mean = LTS_NDVI_POI['mean']\n",
    "POI = NDVI_AOI_interp.sel(lat=POI_lat, lon=POI_lon, method='nearest')"
   ],
   "metadata": {
    "collapsed": false,
    "pycharm": {
     "name": "#%%\n"
    }
   }
  },
  {
   "cell_type": "code",
   "execution_count": 16,
   "outputs": [
    {
     "ename": "NameError",
     "evalue": "name 'POI' is not defined",
     "output_type": "error",
     "traceback": [
      "\u001B[1;31m---------------------------------------------------------------------------\u001B[0m",
      "\u001B[1;31mNameError\u001B[0m                                 Traceback (most recent call last)",
      "Input \u001B[1;32mIn [16]\u001B[0m, in \u001B[0;36m<cell line: 1>\u001B[1;34m()\u001B[0m\n\u001B[1;32m----> 1\u001B[0m (\u001B[43mPOI\u001B[49m\u001B[38;5;241m.\u001B[39mhvplot(width\u001B[38;5;241m=\u001B[39m\u001B[38;5;241m1000\u001B[39m, height\u001B[38;5;241m=\u001B[39m\u001B[38;5;241m700\u001B[39m, label\u001B[38;5;241m=\u001B[39m\u001B[38;5;124m'\u001B[39m\u001B[38;5;124mNDVI\u001B[39m\u001B[38;5;124m'\u001B[39m) \u001B[38;5;241m*\u001B[39m\n\u001B[0;32m      2\u001B[0m  POI_mean\u001B[38;5;241m.\u001B[39mhvplot(c\u001B[38;5;241m=\u001B[39m\u001B[38;5;124m'\u001B[39m\u001B[38;5;124mgrey\u001B[39m\u001B[38;5;124m'\u001B[39m, label\u001B[38;5;241m=\u001B[39m\u001B[38;5;124m'\u001B[39m\u001B[38;5;124mmean LTS 1999-2019\u001B[39m\u001B[38;5;124m'\u001B[39m, alpha\u001B[38;5;241m=\u001B[39m\u001B[38;5;241m0.2\u001B[39m, line_dash\u001B[38;5;241m=\u001B[39m\u001B[38;5;124m'\u001B[39m\u001B[38;5;124mdashed\u001B[39m\u001B[38;5;124m'\u001B[39m) \u001B[38;5;241m*\u001B[39m\n\u001B[0;32m      3\u001B[0m  POI_min\u001B[38;5;241m.\u001B[39mhvplot(c\u001B[38;5;241m=\u001B[39m\u001B[38;5;124m'\u001B[39m\u001B[38;5;124mb\u001B[39m\u001B[38;5;124m'\u001B[39m,label\u001B[38;5;241m=\u001B[39m\u001B[38;5;124m'\u001B[39m\u001B[38;5;124mmin LTS 1999-2019\u001B[39m\u001B[38;5;124m'\u001B[39m, alpha\u001B[38;5;241m=\u001B[39m\u001B[38;5;241m0.2\u001B[39m, line_dash\u001B[38;5;241m=\u001B[39m\u001B[38;5;124m'\u001B[39m\u001B[38;5;124mdashed\u001B[39m\u001B[38;5;124m'\u001B[39m) \u001B[38;5;241m*\u001B[39m\n\u001B[0;32m      4\u001B[0m  POI_max\u001B[38;5;241m.\u001B[39mhvplot(c\u001B[38;5;241m=\u001B[39m\u001B[38;5;124m'\u001B[39m\u001B[38;5;124mr\u001B[39m\u001B[38;5;124m'\u001B[39m, label\u001B[38;5;241m=\u001B[39m\u001B[38;5;124m'\u001B[39m\u001B[38;5;124mMax LTS 1999-2019\u001B[39m\u001B[38;5;124m'\u001B[39m, alpha\u001B[38;5;241m=\u001B[39m\u001B[38;5;241m0.2\u001B[39m, line_dash\u001B[38;5;241m=\u001B[39m\u001B[38;5;124m'\u001B[39m\u001B[38;5;124mdashed\u001B[39m\u001B[38;5;124m'\u001B[39m) \u001B[38;5;241m*\u001B[39m\n\u001B[0;32m      5\u001B[0m  hv\u001B[38;5;241m.\u001B[39mArea((POI_mean\u001B[38;5;241m.\u001B[39mtime, POI_mean \u001B[38;5;241m-\u001B[39m POI_std, POI_mean \u001B[38;5;241m+\u001B[39m POI_std ), vdims\u001B[38;5;241m=\u001B[39m[\u001B[38;5;124m'\u001B[39m\u001B[38;5;124m- Std\u001B[39m\u001B[38;5;124m'\u001B[39m, \u001B[38;5;124m'\u001B[39m\u001B[38;5;124m+ Std\u001B[39m\u001B[38;5;124m'\u001B[39m], label\u001B[38;5;241m=\u001B[39m\u001B[38;5;124m'\u001B[39m\u001B[38;5;124mStandard deviation LTS 1999-2019\u001B[39m\u001B[38;5;124m'\u001B[39m,)\u001B[38;5;241m.\u001B[39mopts( color\u001B[38;5;241m=\u001B[39m\u001B[38;5;124m'\u001B[39m\u001B[38;5;124mblue\u001B[39m\u001B[38;5;124m'\u001B[39m, alpha\u001B[38;5;241m=\u001B[39m\u001B[38;5;241m0.2\u001B[39m))\\\n\u001B[0;32m      6\u001B[0m     \u001B[38;5;241m.\u001B[39mopts(title\u001B[38;5;241m=\u001B[39m\u001B[38;5;124mf\u001B[39m\u001B[38;5;124m\"\u001B[39m\u001B[38;5;124mCGLS S3 300m NDVI fluctuation over the year 2022 in comparison with CGLS Long Term Statistics\u001B[39m\u001B[38;5;130;01m\\n\u001B[39;00m\u001B[38;5;124mPoint of interest Lat \u001B[39m\u001B[38;5;132;01m{\u001B[39;00mnp\u001B[38;5;241m.\u001B[39mround(POI\u001B[38;5;241m.\u001B[39mlat\u001B[38;5;241m.\u001B[39mdata,\u001B[38;5;241m2\u001B[39m)\u001B[38;5;132;01m}\u001B[39;00m\u001B[38;5;124m Lon \u001B[39m\u001B[38;5;132;01m{\u001B[39;00mnp\u001B[38;5;241m.\u001B[39mround(POI\u001B[38;5;241m.\u001B[39mlon\u001B[38;5;241m.\u001B[39mdata,\u001B[38;5;241m2\u001B[39m)\u001B[38;5;132;01m}\u001B[39;00m\u001B[38;5;124m\"\u001B[39m,\n\u001B[0;32m      7\u001B[0m           legend_position\u001B[38;5;241m=\u001B[39m\u001B[38;5;124m'\u001B[39m\u001B[38;5;124mbottom_right\u001B[39m\u001B[38;5;124m'\u001B[39m)\n",
      "\u001B[1;31mNameError\u001B[0m: name 'POI' is not defined"
     ]
    }
   ],
   "source": [
    "(POI.hvplot(width=1000, height=700, label='NDVI') *\n",
    " POI_mean.hvplot(c='grey', label='mean LTS 1999-2019', alpha=0.2, line_dash='dashed') *\n",
    " POI_min.hvplot(c='b',label='min LTS 1999-2019', alpha=0.2, line_dash='dashed') *\n",
    " POI_max.hvplot(c='r', label='Max LTS 1999-2019', alpha=0.2, line_dash='dashed') *\n",
    " hv.Area((POI_mean.time, POI_mean - POI_std, POI_mean + POI_std ), vdims=['- Std', '+ Std'], label='Standard deviation LTS 1999-2019',).opts( color='blue', alpha=0.2))\\\n",
    "    .opts(title=f\"CGLS S3 300m NDVI fluctuation over the year 2022 in comparison with CGLS Long Term Statistics\\nPoint of interest Lat {np.round(POI.lat.data,2)} Lon {np.round(POI.lon.data,2)}\",\n",
    "          legend_position='bottom_right')"
   ],
   "metadata": {
    "collapsed": false,
    "pycharm": {
     "name": "#%%\n"
    }
   }
  },
  {
   "cell_type": "code",
   "execution_count": 17,
   "outputs": [
    {
     "ename": "NameError",
     "evalue": "name 'NDVI_AOI_interp' is not defined",
     "output_type": "error",
     "traceback": [
      "\u001B[1;31m---------------------------------------------------------------------------\u001B[0m",
      "\u001B[1;31mNameError\u001B[0m                                 Traceback (most recent call last)",
      "Input \u001B[1;32mIn [17]\u001B[0m, in \u001B[0;36m<cell line: 1>\u001B[1;34m()\u001B[0m\n\u001B[1;32m----> 1\u001B[0m NDVI_AOI_interp \u001B[38;5;241m=\u001B[39m \u001B[43mNDVI_AOI_interp\u001B[49m\u001B[38;5;241m.\u001B[39mrio\u001B[38;5;241m.\u001B[39mwrite_crs(\u001B[38;5;241m4326\u001B[39m)\n\u001B[0;32m      2\u001B[0m LTS \u001B[38;5;241m=\u001B[39m LTS\u001B[38;5;241m.\u001B[39mrio\u001B[38;5;241m.\u001B[39mwrite_crs(\u001B[38;5;241m4326\u001B[39m)\n",
      "\u001B[1;31mNameError\u001B[0m: name 'NDVI_AOI_interp' is not defined"
     ]
    }
   ],
   "source": [
    "NDVI_AOI_interp = NDVI_AOI_interp.rio.write_crs(4326)\n",
    "LTS = LTS.rio.write_crs(4326)"
   ],
   "metadata": {
    "collapsed": false,
    "pycharm": {
     "name": "#%%\n"
    }
   }
  },
  {
   "cell_type": "code",
   "execution_count": 18,
   "outputs": [
    {
     "ename": "NameError",
     "evalue": "name 'LTS' is not defined",
     "output_type": "error",
     "traceback": [
      "\u001B[1;31m---------------------------------------------------------------------------\u001B[0m",
      "\u001B[1;31mNameError\u001B[0m                                 Traceback (most recent call last)",
      "Input \u001B[1;32mIn [18]\u001B[0m, in \u001B[0;36m<cell line: 1>\u001B[1;34m()\u001B[0m\n\u001B[1;32m----> 1\u001B[0m LTS \u001B[38;5;241m=\u001B[39m \u001B[43mLTS\u001B[49m\u001B[38;5;241m.\u001B[39mrio\u001B[38;5;241m.\u001B[39mclip(AOI_poly, crs\u001B[38;5;241m=\u001B[39m\u001B[38;5;241m4326\u001B[39m)\n",
      "\u001B[1;31mNameError\u001B[0m: name 'LTS' is not defined"
     ]
    }
   ],
   "source": [
    "LTS = LTS.rio.clip(AOI_poly, crs=4326)"
   ],
   "metadata": {
    "collapsed": false,
    "pycharm": {
     "name": "#%%\n"
    }
   }
  },
  {
   "cell_type": "code",
   "execution_count": 19,
   "outputs": [
    {
     "ename": "NameError",
     "evalue": "name 'NDVI_AOI_interp' is not defined",
     "output_type": "error",
     "traceback": [
      "\u001B[1;31m---------------------------------------------------------------------------\u001B[0m",
      "\u001B[1;31mNameError\u001B[0m                                 Traceback (most recent call last)",
      "Input \u001B[1;32mIn [19]\u001B[0m, in \u001B[0;36m<cell line: 1>\u001B[1;34m()\u001B[0m\n\u001B[1;32m----> 1\u001B[0m NDVI_1k \u001B[38;5;241m=\u001B[39m \u001B[43mNDVI_AOI_interp\u001B[49m\u001B[38;5;241m.\u001B[39mrio\u001B[38;5;241m.\u001B[39mreproject_match(LTS)\n",
      "\u001B[1;31mNameError\u001B[0m: name 'NDVI_AOI_interp' is not defined"
     ]
    }
   ],
   "source": [
    "NDVI_1k = NDVI_AOI_interp.rio.reproject_match(LTS)"
   ],
   "metadata": {
    "collapsed": false,
    "pycharm": {
     "name": "#%%\n"
    }
   }
  },
  {
   "cell_type": "code",
   "execution_count": 20,
   "outputs": [
    {
     "ename": "NameError",
     "evalue": "name 'NDVI_1k' is not defined",
     "output_type": "error",
     "traceback": [
      "\u001B[1;31m---------------------------------------------------------------------------\u001B[0m",
      "\u001B[1;31mNameError\u001B[0m                                 Traceback (most recent call last)",
      "Input \u001B[1;32mIn [20]\u001B[0m, in \u001B[0;36m<cell line: 1>\u001B[1;34m()\u001B[0m\n\u001B[1;32m----> 1\u001B[0m \u001B[43mNDVI_1k\u001B[49m\u001B[38;5;241m.\u001B[39mcoords\n",
      "\u001B[1;31mNameError\u001B[0m: name 'NDVI_1k' is not defined"
     ]
    }
   ],
   "source": [
    "NDVI_1k.coords"
   ],
   "metadata": {
    "collapsed": false,
    "pycharm": {
     "name": "#%%\n"
    }
   }
  },
  {
   "cell_type": "code",
   "execution_count": 22,
   "outputs": [
    {
     "ename": "NameError",
     "evalue": "name 'NDVI_1k' is not defined",
     "output_type": "error",
     "traceback": [
      "\u001B[1;31m---------------------------------------------------------------------------\u001B[0m",
      "\u001B[1;31mNameError\u001B[0m                                 Traceback (most recent call last)",
      "Input \u001B[1;32mIn [22]\u001B[0m, in \u001B[0;36m<cell line: 1>\u001B[1;34m()\u001B[0m\n\u001B[1;32m----> 1\u001B[0m NDVI_1k \u001B[38;5;241m=\u001B[39m \u001B[43mNDVI_1k\u001B[49m\u001B[38;5;241m.\u001B[39mrename({\u001B[38;5;124m'\u001B[39m\u001B[38;5;124mx\u001B[39m\u001B[38;5;124m'\u001B[39m: \u001B[38;5;124m'\u001B[39m\u001B[38;5;124mlon\u001B[39m\u001B[38;5;124m'\u001B[39m, \u001B[38;5;124m'\u001B[39m\u001B[38;5;124my\u001B[39m\u001B[38;5;124m'\u001B[39m:\u001B[38;5;124m'\u001B[39m\u001B[38;5;124mlat\u001B[39m\u001B[38;5;124m'\u001B[39m})\n",
      "\u001B[1;31mNameError\u001B[0m: name 'NDVI_1k' is not defined"
     ]
    }
   ],
   "source": [
    "NDVI_1k = NDVI_1k.rename({'x': 'lon', 'y':'lat'})"
   ],
   "metadata": {
    "collapsed": false,
    "pycharm": {
     "name": "#%%\n"
    }
   }
  },
  {
   "cell_type": "code",
   "execution_count": 23,
   "outputs": [
    {
     "ename": "NameError",
     "evalue": "name 'NDVI_1k' is not defined",
     "output_type": "error",
     "traceback": [
      "\u001B[1;31m---------------------------------------------------------------------------\u001B[0m",
      "\u001B[1;31mNameError\u001B[0m                                 Traceback (most recent call last)",
      "Input \u001B[1;32mIn [23]\u001B[0m, in \u001B[0;36m<cell line: 1>\u001B[1;34m()\u001B[0m\n\u001B[1;32m----> 1\u001B[0m \u001B[43mNDVI_1k\u001B[49m\u001B[38;5;241m.\u001B[39mcoords\n",
      "\u001B[1;31mNameError\u001B[0m: name 'NDVI_1k' is not defined"
     ]
    }
   ],
   "source": [
    "NDVI_1k.coords"
   ],
   "metadata": {
    "collapsed": false,
    "pycharm": {
     "name": "#%%\n"
    }
   }
  },
  {
   "cell_type": "code",
   "execution_count": 24,
   "outputs": [
    {
     "ename": "NameError",
     "evalue": "name 'NDVI_1k' is not defined",
     "output_type": "error",
     "traceback": [
      "\u001B[1;31m---------------------------------------------------------------------------\u001B[0m",
      "\u001B[1;31mNameError\u001B[0m                                 Traceback (most recent call last)",
      "Input \u001B[1;32mIn [24]\u001B[0m, in \u001B[0;36m<cell line: 1>\u001B[1;34m()\u001B[0m\n\u001B[1;32m----> 1\u001B[0m NDVI_1k \u001B[38;5;241m=\u001B[39m \u001B[43mNDVI_1k\u001B[49m\u001B[38;5;241m.\u001B[39mwhere((NDVI_1k \u001B[38;5;241m>\u001B[39m\u001B[38;5;241m=\u001B[39m \u001B[38;5;241m-\u001B[39m\u001B[38;5;241m0.08\u001B[39m) \u001B[38;5;241m&\u001B[39m (NDVI_1k \u001B[38;5;241m<\u001B[39m\u001B[38;5;241m=\u001B[39m \u001B[38;5;241m0.92\u001B[39m))\n",
      "\u001B[1;31mNameError\u001B[0m: name 'NDVI_1k' is not defined"
     ]
    }
   ],
   "source": [
    "NDVI_1k = NDVI_1k.where((NDVI_1k >= -0.08) & (NDVI_1k <= 0.92))"
   ],
   "metadata": {
    "collapsed": false,
    "pycharm": {
     "name": "#%%\n"
    }
   }
  },
  {
   "cell_type": "code",
   "execution_count": 25,
   "outputs": [
    {
     "ename": "NameError",
     "evalue": "name 'NDVI_1k' is not defined",
     "output_type": "error",
     "traceback": [
      "\u001B[1;31m---------------------------------------------------------------------------\u001B[0m",
      "\u001B[1;31mNameError\u001B[0m                                 Traceback (most recent call last)",
      "Input \u001B[1;32mIn [25]\u001B[0m, in \u001B[0;36m<cell line: 1>\u001B[1;34m()\u001B[0m\n\u001B[1;32m----> 1\u001B[0m \u001B[43mNDVI_1k\u001B[49m\u001B[38;5;241m.\u001B[39mhvplot(groupby\u001B[38;5;241m=\u001B[39m\u001B[38;5;124m'\u001B[39m\u001B[38;5;124mtime\u001B[39m\u001B[38;5;124m'\u001B[39m, cmap\u001B[38;5;241m=\u001B[39m\u001B[38;5;124m'\u001B[39m\u001B[38;5;124mRdYlGn\u001B[39m\u001B[38;5;124m'\u001B[39m, width\u001B[38;5;241m=\u001B[39m\u001B[38;5;241m800\u001B[39m, height\u001B[38;5;241m=\u001B[39m\u001B[38;5;241m700\u001B[39m)\n",
      "\u001B[1;31mNameError\u001B[0m: name 'NDVI_1k' is not defined"
     ]
    }
   ],
   "source": [
    "NDVI_1k.hvplot(groupby='time', cmap='RdYlGn', width=800, height=700)"
   ],
   "metadata": {
    "collapsed": false,
    "pycharm": {
     "name": "#%%\n"
    }
   }
  },
  {
   "cell_type": "code",
   "execution_count": 26,
   "outputs": [
    {
     "ename": "NameError",
     "evalue": "name 'NDVI_1k' is not defined",
     "output_type": "error",
     "traceback": [
      "\u001B[1;31m---------------------------------------------------------------------------\u001B[0m",
      "\u001B[1;31mNameError\u001B[0m                                 Traceback (most recent call last)",
      "Input \u001B[1;32mIn [26]\u001B[0m, in \u001B[0;36m<cell line: 1>\u001B[1;34m()\u001B[0m\n\u001B[1;32m----> 1\u001B[0m VCI \u001B[38;5;241m=\u001B[39m ((\u001B[43mNDVI_1k\u001B[49m \u001B[38;5;241m-\u001B[39m LTS[\u001B[38;5;124m'\u001B[39m\u001B[38;5;124mmin\u001B[39m\u001B[38;5;124m'\u001B[39m]) \u001B[38;5;241m/\u001B[39m (LTS[\u001B[38;5;124m'\u001B[39m\u001B[38;5;124mmax\u001B[39m\u001B[38;5;124m'\u001B[39m] \u001B[38;5;241m-\u001B[39m LTS[\u001B[38;5;124m'\u001B[39m\u001B[38;5;124mmin\u001B[39m\u001B[38;5;124m'\u001B[39m])) \u001B[38;5;241m*\u001B[39m \u001B[38;5;241m100\u001B[39m\n",
      "\u001B[1;31mNameError\u001B[0m: name 'NDVI_1k' is not defined"
     ]
    }
   ],
   "source": [
    "VCI = ((NDVI_1k - LTS['min']) / (LTS['max'] - LTS['min'])) * 100"
   ],
   "metadata": {
    "collapsed": false,
    "pycharm": {
     "name": "#%%\n"
    }
   }
  },
  {
   "cell_type": "code",
   "execution_count": 27,
   "outputs": [
    {
     "ename": "NameError",
     "evalue": "name 'VCI' is not defined",
     "output_type": "error",
     "traceback": [
      "\u001B[1;31m---------------------------------------------------------------------------\u001B[0m",
      "\u001B[1;31mNameError\u001B[0m                                 Traceback (most recent call last)",
      "Input \u001B[1;32mIn [27]\u001B[0m, in \u001B[0;36m<cell line: 1>\u001B[1;34m()\u001B[0m\n\u001B[1;32m----> 1\u001B[0m \u001B[43mVCI\u001B[49m\u001B[38;5;241m.\u001B[39mname \u001B[38;5;241m=\u001B[39m \u001B[38;5;124m'\u001B[39m\u001B[38;5;124mVCI\u001B[39m\u001B[38;5;124m'\u001B[39m\n",
      "\u001B[1;31mNameError\u001B[0m: name 'VCI' is not defined"
     ]
    }
   ],
   "source": [
    "VCI.name = 'VCI'"
   ],
   "metadata": {
    "collapsed": false,
    "pycharm": {
     "name": "#%%\n"
    }
   }
  },
  {
   "cell_type": "code",
   "execution_count": 28,
   "outputs": [
    {
     "ename": "NameError",
     "evalue": "name 'VCI' is not defined",
     "output_type": "error",
     "traceback": [
      "\u001B[1;31m---------------------------------------------------------------------------\u001B[0m",
      "\u001B[1;31mNameError\u001B[0m                                 Traceback (most recent call last)",
      "Input \u001B[1;32mIn [28]\u001B[0m, in \u001B[0;36m<cell line: 1>\u001B[1;34m()\u001B[0m\n\u001B[1;32m----> 1\u001B[0m \u001B[43mVCI\u001B[49m\u001B[38;5;241m.\u001B[39misel(time\u001B[38;5;241m=\u001B[39m\u001B[38;5;241m4\u001B[39m)\u001B[38;5;241m.\u001B[39mhvplot()\n",
      "\u001B[1;31mNameError\u001B[0m: name 'VCI' is not defined"
     ]
    }
   ],
   "source": [
    "VCI.isel(time=4).hvplot()"
   ],
   "metadata": {
    "collapsed": false,
    "pycharm": {
     "name": "#%%\n"
    }
   }
  },
  {
   "cell_type": "code",
   "execution_count": 29,
   "outputs": [
    {
     "ename": "NameError",
     "evalue": "name 'VCI' is not defined",
     "output_type": "error",
     "traceback": [
      "\u001B[1;31m---------------------------------------------------------------------------\u001B[0m",
      "\u001B[1;31mNameError\u001B[0m                                 Traceback (most recent call last)",
      "Input \u001B[1;32mIn [29]\u001B[0m, in \u001B[0;36m<cell line: 1>\u001B[1;34m()\u001B[0m\n\u001B[1;32m----> 1\u001B[0m \u001B[43mVCI\u001B[49m\u001B[38;5;241m.\u001B[39msel(lat\u001B[38;5;241m=\u001B[39mPOI_lat, lon\u001B[38;5;241m=\u001B[39mPOI_lon, method\u001B[38;5;241m=\u001B[39m\u001B[38;5;124m'\u001B[39m\u001B[38;5;124mnearest\u001B[39m\u001B[38;5;124m'\u001B[39m)\u001B[38;5;241m.\u001B[39mhvplot\u001B[38;5;241m.\u001B[39mhist()\n",
      "\u001B[1;31mNameError\u001B[0m: name 'VCI' is not defined"
     ]
    }
   ],
   "source": [
    "VCI.sel(lat=POI_lat, lon=POI_lon, method='nearest').hvplot.hist()"
   ],
   "metadata": {
    "collapsed": false,
    "pycharm": {
     "name": "#%%\n"
    }
   }
  },
  {
   "cell_type": "code",
   "execution_count": 30,
   "outputs": [
    {
     "ename": "NameError",
     "evalue": "name 'VCI' is not defined",
     "output_type": "error",
     "traceback": [
      "\u001B[1;31m---------------------------------------------------------------------------\u001B[0m",
      "\u001B[1;31mNameError\u001B[0m                                 Traceback (most recent call last)",
      "Input \u001B[1;32mIn [30]\u001B[0m, in \u001B[0;36m<cell line: 1>\u001B[1;34m()\u001B[0m\n\u001B[1;32m----> 1\u001B[0m \u001B[43mVCI\u001B[49m\u001B[38;5;241m.\u001B[39mplot()\n",
      "\u001B[1;31mNameError\u001B[0m: name 'VCI' is not defined"
     ]
    }
   ],
   "source": [
    "VCI.plot()"
   ],
   "metadata": {
    "collapsed": false,
    "pycharm": {
     "name": "#%%\n"
    }
   }
  },
  {
   "cell_type": "code",
   "execution_count": 31,
   "outputs": [
    {
     "ename": "NameError",
     "evalue": "name 'VCI' is not defined",
     "output_type": "error",
     "traceback": [
      "\u001B[1;31m---------------------------------------------------------------------------\u001B[0m",
      "\u001B[1;31mNameError\u001B[0m                                 Traceback (most recent call last)",
      "Input \u001B[1;32mIn [31]\u001B[0m, in \u001B[0;36m<cell line: 1>\u001B[1;34m()\u001B[0m\n\u001B[1;32m----> 1\u001B[0m \u001B[43mVCI\u001B[49m\u001B[38;5;241m.\u001B[39misel(time\u001B[38;5;241m=\u001B[39m\u001B[38;5;241m-\u001B[39m\u001B[38;5;241m1\u001B[39m)\u001B[38;5;241m.\u001B[39mhvplot\u001B[38;5;241m.\u001B[39mcontourf(cmap\u001B[38;5;241m=\u001B[39m\u001B[38;5;124m'\u001B[39m\u001B[38;5;124mRdYlGn\u001B[39m\u001B[38;5;124m'\u001B[39m, alpha\u001B[38;5;241m=\u001B[39m\u001B[38;5;241m0.7\u001B[39m,\n\u001B[0;32m      2\u001B[0m                                   levels\u001B[38;5;241m=\u001B[39m[\u001B[38;5;241m-\u001B[39m\u001B[38;5;241m200\u001B[39m,\u001B[38;5;241m-\u001B[39m\u001B[38;5;241m100\u001B[39m,\u001B[38;5;241m-\u001B[39m\u001B[38;5;241m50\u001B[39m, \u001B[38;5;241m0\u001B[39m,\u001B[38;5;241m50\u001B[39m,\u001B[38;5;241m100\u001B[39m,\u001B[38;5;241m200\u001B[39m],\n\u001B[0;32m      3\u001B[0m                                   geo\u001B[38;5;241m=\u001B[39m\u001B[38;5;28;01mTrue\u001B[39;00m, tiles\u001B[38;5;241m=\u001B[39m \u001B[38;5;124m'\u001B[39m\u001B[38;5;124mCartoLight\u001B[39m\u001B[38;5;124m'\u001B[39m,\n\u001B[0;32m      4\u001B[0m                                   width\u001B[38;5;241m=\u001B[39m\u001B[38;5;241m800\u001B[39m, height\u001B[38;5;241m=\u001B[39m\u001B[38;5;241m700\u001B[39m,\n\u001B[0;32m      5\u001B[0m                                   title\u001B[38;5;241m=\u001B[39m\u001B[38;5;124mf\u001B[39m\u001B[38;5;124m'\u001B[39m\u001B[38;5;124mCGLS VCI \u001B[39m\u001B[38;5;132;01m{\u001B[39;00mAOI_name\u001B[38;5;132;01m}\u001B[39;00m\u001B[38;5;124m \u001B[39m\u001B[38;5;132;01m{\u001B[39;00mVCI\u001B[38;5;241m.\u001B[39misel(time\u001B[38;5;241m=\u001B[39m\u001B[38;5;241m-\u001B[39m\u001B[38;5;241m1\u001B[39m)\u001B[38;5;241m.\u001B[39mtime\u001B[38;5;241m.\u001B[39mdt\u001B[38;5;241m.\u001B[39mdate\u001B[38;5;241m.\u001B[39mdata\u001B[38;5;132;01m}\u001B[39;00m\u001B[38;5;124m'\u001B[39m)\n",
      "\u001B[1;31mNameError\u001B[0m: name 'VCI' is not defined"
     ]
    }
   ],
   "source": [
    "VCI.isel(time=-1).hvplot.contourf(cmap='RdYlGn', alpha=0.7,\n",
    "                                  levels=[-200,-100,-50, 0,50,100,200],\n",
    "                                  geo=True, tiles= 'CartoLight',\n",
    "                                  width=800, height=700,\n",
    "                                  title=f'CGLS VCI {AOI_name} {VCI.isel(time=-1).time.dt.date.data}')"
   ],
   "metadata": {
    "collapsed": false,
    "pycharm": {
     "name": "#%%\n"
    }
   }
  },
  {
   "cell_type": "code",
   "execution_count": null,
   "outputs": [],
   "source": [],
   "metadata": {
    "collapsed": false,
    "pycharm": {
     "name": "#%%\n"
    }
   }
  }
 ],
 "metadata": {
  "kernelspec": {
   "display_name": "Python 3",
   "language": "python",
   "name": "python3"
  },
  "language_info": {
   "codemirror_mode": {
    "name": "ipython",
    "version": 2
   },
   "file_extension": ".py",
   "mimetype": "text/x-python",
   "name": "python",
   "nbconvert_exporter": "python",
   "pygments_lexer": "ipython2",
   "version": "2.7.6"
  }
 },
 "nbformat": 4,
 "nbformat_minor": 0
}