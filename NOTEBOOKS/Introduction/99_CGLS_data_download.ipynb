{
 "cells": [
  {
   "cell_type": "code",
   "execution_count": 35,
   "outputs": [],
   "source": [
    "import pandas as pd\n",
    "import netrc\n",
    "import CGLS"
   ],
   "metadata": {
    "collapsed": false,
    "pycharm": {
     "name": "#%%\n"
    }
   }
  },
  {
   "cell_type": "code",
   "execution_count": 36,
   "outputs": [],
   "source": [
    "netrc = netrc.netrc()\n",
    "user, _, password = netrc.authenticators('land.copernicus.vgt.vito.be')"
   ],
   "metadata": {
    "collapsed": false,
    "pycharm": {
     "name": "#%%\n"
    }
   }
  },
  {
   "cell_type": "markdown",
   "source": [
    "# Copernicus Global Land Service\n",
    "Registration can be achieved [here](https://land.copernicus.vgt.vito.be/PDF/portal/Application.html#Home) through the 'Register' link in the top right corner."
   ],
   "metadata": {
    "collapsed": false,
    "pycharm": {
     "name": "#%% md\n"
    }
   }
  },
  {
   "cell_type": "code",
   "execution_count": 37,
   "outputs": [],
   "source": [
    "session = CGLS.Session(user, password)"
   ],
   "metadata": {
    "collapsed": false,
    "pycharm": {
     "name": "#%%\n"
    }
   }
  },
  {
   "cell_type": "markdown",
   "source": [
    "Collection list can be fetched through .list_collection"
   ],
   "metadata": {
    "collapsed": false,
    "pycharm": {
     "name": "#%% md\n"
    }
   }
  },
  {
   "cell_type": "code",
   "execution_count": 38,
   "outputs": [
    {
     "data": {
      "text/plain": "['albh_v1_1km',\n 'aldh_v1_1km',\n 'ba300_V3_333m',\n 'ba300_v1_333m',\n 'dmp300_v1_333m',\n 'dmp_v2_1km',\n 'fapar300_v1_333m',\n 'fapar_v1_1km',\n 'fapar_v2_1km',\n 'fcover300_v1_333m',\n 'fcover_v1_1km',\n 'fcover_v2_1km',\n 'gdmp300_v1_333m',\n 'gdmp_v2_1km',\n 'lai300_v1_333m',\n 'lai_v1_1km',\n 'lai_v2_1km',\n 'lst10-dc_v1_0.045degree',\n 'lst10-dc_v2_0.045degree',\n 'lst10-tci_v1_0.045degree',\n 'lst10-tci_v2_0.045degree',\n 'lst_v1_0.045degree',\n 'lst_v2_0.045degree',\n 'ndvi-lts_v2_1km',\n 'ndvi300_v1_333m',\n 'ndvi300_v2_333m',\n 'ndvi_stats_all',\n 'ndvi_v2_1km',\n 'ndvi_v3_1km',\n 'ssm_v1_1km',\n 'swi-static-ci_v1_0.1degree',\n 'swi-static-dgg_v3_12.5km',\n 'swi-static-fm_v1_0.1degree',\n 'swi-static-tc_v1_0.1degree',\n 'swi-static-wf_v1_0.1degree',\n 'swi10_v3_0.1degree',\n 'swi_v1_1km',\n 'swi_v3_0.1degree',\n 'tocr_v1_1km',\n 'wb300_v1_333m']"
     },
     "execution_count": 38,
     "metadata": {},
     "output_type": "execute_result"
    }
   ],
   "source": [
    "session.list_collections()"
   ],
   "metadata": {
    "collapsed": false,
    "pycharm": {
     "name": "#%%\n"
    }
   }
  },
  {
   "cell_type": "markdown",
   "source": [
    "Loading the collection is pretty strait forward"
   ],
   "metadata": {
    "collapsed": false,
    "pycharm": {
     "name": "#%% md\n"
    }
   }
  },
  {
   "cell_type": "code",
   "execution_count": 39,
   "outputs": [],
   "source": [
    "stats = session.load_collection('ndvi_stats_all')"
   ],
   "metadata": {
    "collapsed": false,
    "pycharm": {
     "name": "#%%\n"
    }
   }
  },
  {
   "cell_type": "markdown",
   "source": [
    "Infos about the sensor, the valid time period, the algorithm and the RT verions can be obtained through the info"
   ],
   "metadata": {
    "collapsed": false,
    "pycharm": {
     "name": "#%% md\n"
    }
   }
  },
  {
   "cell_type": "code",
   "execution_count": 40,
   "outputs": [
    {
     "name": "stdout",
     "output_type": "stream",
     "text": [
      "\n",
      "Product name:      ndvi_stats_all \n",
      "Sensor           : ['VGT-PROBAV' 'PROBAV']\n",
      "Valid time period: [1999-01-01:2015-12-21]\n",
      "Algoritms        : ['3.0.1']\n",
      "RT list          : None\n"
     ]
    }
   ],
   "source": [
    "stats.infos"
   ],
   "metadata": {
    "collapsed": false,
    "pycharm": {
     "name": "#%%\n"
    }
   }
  },
  {
   "cell_type": "markdown",
   "source": [
    "To download data only the path is mandatory; if other component like sensor, date, version, RT are not defined, the latest observation will be downloaded.\n",
    "Date can be defined as single date, list of dates or slice of pd.datetime.\n",
    "Other variables can be configured according to the info result."
   ],
   "metadata": {
    "collapsed": false,
    "pycharm": {
     "name": "#%% md\n"
    }
   }
  },
  {
   "cell_type": "code",
   "execution_count": 41,
   "outputs": [
    {
     "name": "stdout",
     "output_type": "stream",
     "text": [
      "Skipping c_gls_NDVI-LTS_1999-2019-0101_GLOBE_VGT-PROBAV_V3.0.1.nc as already available\n",
      "Skipping c_gls_NDVI-LTS_1999-2019-0111_GLOBE_VGT-PROBAV_V3.0.1.nc as already available\n",
      "Skipping c_gls_NDVI-LTS_1999-2019-0121_GLOBE_VGT-PROBAV_V3.0.1.nc as already available\n",
      "Skipping c_gls_NDVI-LTS_1999-2019-0221_GLOBE_VGT-PROBAV_V3.0.1.nc as already available\n",
      "Skipping c_gls_NDVI-LTS_1999-2019-0211_GLOBE_VGT-PROBAV_V3.0.1.nc as already available\n",
      "Skipping c_gls_NDVI-LTS_1999-2019-0301_GLOBE_VGT-PROBAV_V3.0.1.nc as already available\n",
      "Skipping c_gls_NDVI-LTS_1999-2019-0311_GLOBE_VGT-PROBAV_V3.0.1.nc as already available\n",
      "Skipping c_gls_NDVI-LTS_1999-2019-0321_GLOBE_VGT-PROBAV_V3.0.1.nc as already available\n",
      "Skipping c_gls_NDVI-LTS_1999-2019-0201_GLOBE_VGT-PROBAV_V3.0.1.nc as already available\n",
      "Skipping c_gls_NDVI-LTS_1999-2019-0401_GLOBE_VGT-PROBAV_V3.0.1.nc as already available\n",
      "Skipping c_gls_NDVI-LTS_1999-2019-0421_GLOBE_VGT-PROBAV_V3.0.1.nc as already available\n",
      "Skipping c_gls_NDVI-LTS_1999-2019-0411_GLOBE_VGT-PROBAV_V3.0.1.nc as already available\n",
      "Skipping c_gls_NDVI-LTS_1999-2019-0501_GLOBE_VGT-PROBAV_V3.0.1.nc as already available\n",
      "Skipping c_gls_NDVI-LTS_1999-2019-0511_GLOBE_VGT-PROBAV_V3.0.1.nc as already available\n",
      "Skipping c_gls_NDVI-LTS_1999-2019-0521_GLOBE_VGT-PROBAV_V3.0.1.nc as already available\n",
      "Skipping c_gls_NDVI-LTS_1999-2019-0601_GLOBE_VGT-PROBAV_V3.0.1.nc as already available\n",
      "Skipping c_gls_NDVI-LTS_1999-2019-0611_GLOBE_VGT-PROBAV_V3.0.1.nc as already available\n",
      "Skipping c_gls_NDVI-LTS_1999-2019-0621_GLOBE_VGT-PROBAV_V3.0.1.nc as already available\n",
      "Skipping c_gls_NDVI-LTS_1999-2019-0701_GLOBE_VGT-PROBAV_V3.0.1.nc as already available\n",
      "Skipping c_gls_NDVI-LTS_1999-2019-0711_GLOBE_VGT-PROBAV_V3.0.1.nc as already available\n",
      "Skipping c_gls_NDVI-LTS_1999-2019-0721_GLOBE_VGT-PROBAV_V3.0.1.nc as already available\n",
      "Skipping c_gls_NDVI-LTS_1999-2019-0801_GLOBE_VGT-PROBAV_V3.0.1.nc as already available\n",
      "Skipping c_gls_NDVI-LTS_1999-2019-0811_GLOBE_VGT-PROBAV_V3.0.1.nc as already available\n",
      "Skipping c_gls_NDVI-LTS_1999-2019-0821_GLOBE_VGT-PROBAV_V3.0.1.nc as already available\n",
      "Skipping c_gls_NDVI-LTS_1999-2019-0901_GLOBE_VGT-PROBAV_V3.0.1.nc as already available\n",
      "Skipping c_gls_NDVI-LTS_1999-2019-0911_GLOBE_VGT-PROBAV_V3.0.1.nc as already available\n",
      "Skipping c_gls_NDVI-LTS_1999-2019-0921_GLOBE_VGT-PROBAV_V3.0.1.nc as already available\n",
      "Skipping c_gls_NDVI-LTS_1999-2019-1001_GLOBE_VGT-PROBAV_V3.0.1.nc as already available\n",
      "Skipping c_gls_NDVI-LTS_1999-2019-1011_GLOBE_VGT-PROBAV_V3.0.1.nc as already available\n",
      "Skipping c_gls_NDVI-LTS_1999-2019-1021_GLOBE_VGT-PROBAV_V3.0.1.nc as already available\n",
      "Skipping c_gls_NDVI-LTS_1999-2019-1111_GLOBE_VGT-PROBAV_V3.0.1.nc as already available\n",
      "Skipping c_gls_NDVI-LTS_1999-2019-1101_GLOBE_VGT-PROBAV_V3.0.1.nc as already available\n",
      "Skipping c_gls_NDVI-LTS_1999-2019-1121_GLOBE_VGT-PROBAV_V3.0.1.nc as already available\n",
      "Skipping c_gls_NDVI-LTS_1999-2019-1201_GLOBE_VGT-PROBAV_V3.0.1.nc as already available\n",
      "Skipping c_gls_NDVI-LTS_1999-2019-1221_GLOBE_VGT-PROBAV_V3.0.1.nc as already available\n",
      "Skipping c_gls_NDVI-LTS_1999-2019-1211_GLOBE_VGT-PROBAV_V3.0.1.nc as already available\n"
     ]
    },
    {
     "data": {
      "text/plain": "['C:\\\\Users\\\\Pier\\\\PycharmProjects\\\\foss4g-2022\\\\NOTEBOOKS\\\\Introduction\\\\data\\\\CopernicusGlobalLand\\\\LTS\\\\c_gls_NDVI-LTS_1999-2019-0101_GLOBE_VGT-PROBAV_V3.0.1.nc',\n 'C:\\\\Users\\\\Pier\\\\PycharmProjects\\\\foss4g-2022\\\\NOTEBOOKS\\\\Introduction\\\\data\\\\CopernicusGlobalLand\\\\LTS\\\\c_gls_NDVI-LTS_1999-2019-0111_GLOBE_VGT-PROBAV_V3.0.1.nc',\n 'C:\\\\Users\\\\Pier\\\\PycharmProjects\\\\foss4g-2022\\\\NOTEBOOKS\\\\Introduction\\\\data\\\\CopernicusGlobalLand\\\\LTS\\\\c_gls_NDVI-LTS_1999-2019-0121_GLOBE_VGT-PROBAV_V3.0.1.nc',\n 'C:\\\\Users\\\\Pier\\\\PycharmProjects\\\\foss4g-2022\\\\NOTEBOOKS\\\\Introduction\\\\data\\\\CopernicusGlobalLand\\\\LTS\\\\c_gls_NDVI-LTS_1999-2019-0221_GLOBE_VGT-PROBAV_V3.0.1.nc',\n 'C:\\\\Users\\\\Pier\\\\PycharmProjects\\\\foss4g-2022\\\\NOTEBOOKS\\\\Introduction\\\\data\\\\CopernicusGlobalLand\\\\LTS\\\\c_gls_NDVI-LTS_1999-2019-0211_GLOBE_VGT-PROBAV_V3.0.1.nc',\n 'C:\\\\Users\\\\Pier\\\\PycharmProjects\\\\foss4g-2022\\\\NOTEBOOKS\\\\Introduction\\\\data\\\\CopernicusGlobalLand\\\\LTS\\\\c_gls_NDVI-LTS_1999-2019-0301_GLOBE_VGT-PROBAV_V3.0.1.nc',\n 'C:\\\\Users\\\\Pier\\\\PycharmProjects\\\\foss4g-2022\\\\NOTEBOOKS\\\\Introduction\\\\data\\\\CopernicusGlobalLand\\\\LTS\\\\c_gls_NDVI-LTS_1999-2019-0311_GLOBE_VGT-PROBAV_V3.0.1.nc',\n 'C:\\\\Users\\\\Pier\\\\PycharmProjects\\\\foss4g-2022\\\\NOTEBOOKS\\\\Introduction\\\\data\\\\CopernicusGlobalLand\\\\LTS\\\\c_gls_NDVI-LTS_1999-2019-0321_GLOBE_VGT-PROBAV_V3.0.1.nc',\n 'C:\\\\Users\\\\Pier\\\\PycharmProjects\\\\foss4g-2022\\\\NOTEBOOKS\\\\Introduction\\\\data\\\\CopernicusGlobalLand\\\\LTS\\\\c_gls_NDVI-LTS_1999-2019-0201_GLOBE_VGT-PROBAV_V3.0.1.nc',\n 'C:\\\\Users\\\\Pier\\\\PycharmProjects\\\\foss4g-2022\\\\NOTEBOOKS\\\\Introduction\\\\data\\\\CopernicusGlobalLand\\\\LTS\\\\c_gls_NDVI-LTS_1999-2019-0401_GLOBE_VGT-PROBAV_V3.0.1.nc',\n 'C:\\\\Users\\\\Pier\\\\PycharmProjects\\\\foss4g-2022\\\\NOTEBOOKS\\\\Introduction\\\\data\\\\CopernicusGlobalLand\\\\LTS\\\\c_gls_NDVI-LTS_1999-2019-0421_GLOBE_VGT-PROBAV_V3.0.1.nc',\n 'C:\\\\Users\\\\Pier\\\\PycharmProjects\\\\foss4g-2022\\\\NOTEBOOKS\\\\Introduction\\\\data\\\\CopernicusGlobalLand\\\\LTS\\\\c_gls_NDVI-LTS_1999-2019-0411_GLOBE_VGT-PROBAV_V3.0.1.nc',\n 'C:\\\\Users\\\\Pier\\\\PycharmProjects\\\\foss4g-2022\\\\NOTEBOOKS\\\\Introduction\\\\data\\\\CopernicusGlobalLand\\\\LTS\\\\c_gls_NDVI-LTS_1999-2019-0501_GLOBE_VGT-PROBAV_V3.0.1.nc',\n 'C:\\\\Users\\\\Pier\\\\PycharmProjects\\\\foss4g-2022\\\\NOTEBOOKS\\\\Introduction\\\\data\\\\CopernicusGlobalLand\\\\LTS\\\\c_gls_NDVI-LTS_1999-2019-0511_GLOBE_VGT-PROBAV_V3.0.1.nc',\n 'C:\\\\Users\\\\Pier\\\\PycharmProjects\\\\foss4g-2022\\\\NOTEBOOKS\\\\Introduction\\\\data\\\\CopernicusGlobalLand\\\\LTS\\\\c_gls_NDVI-LTS_1999-2019-0521_GLOBE_VGT-PROBAV_V3.0.1.nc',\n 'C:\\\\Users\\\\Pier\\\\PycharmProjects\\\\foss4g-2022\\\\NOTEBOOKS\\\\Introduction\\\\data\\\\CopernicusGlobalLand\\\\LTS\\\\c_gls_NDVI-LTS_1999-2019-0601_GLOBE_VGT-PROBAV_V3.0.1.nc',\n 'C:\\\\Users\\\\Pier\\\\PycharmProjects\\\\foss4g-2022\\\\NOTEBOOKS\\\\Introduction\\\\data\\\\CopernicusGlobalLand\\\\LTS\\\\c_gls_NDVI-LTS_1999-2019-0611_GLOBE_VGT-PROBAV_V3.0.1.nc',\n 'C:\\\\Users\\\\Pier\\\\PycharmProjects\\\\foss4g-2022\\\\NOTEBOOKS\\\\Introduction\\\\data\\\\CopernicusGlobalLand\\\\LTS\\\\c_gls_NDVI-LTS_1999-2019-0621_GLOBE_VGT-PROBAV_V3.0.1.nc',\n 'C:\\\\Users\\\\Pier\\\\PycharmProjects\\\\foss4g-2022\\\\NOTEBOOKS\\\\Introduction\\\\data\\\\CopernicusGlobalLand\\\\LTS\\\\c_gls_NDVI-LTS_1999-2019-0701_GLOBE_VGT-PROBAV_V3.0.1.nc',\n 'C:\\\\Users\\\\Pier\\\\PycharmProjects\\\\foss4g-2022\\\\NOTEBOOKS\\\\Introduction\\\\data\\\\CopernicusGlobalLand\\\\LTS\\\\c_gls_NDVI-LTS_1999-2019-0711_GLOBE_VGT-PROBAV_V3.0.1.nc',\n 'C:\\\\Users\\\\Pier\\\\PycharmProjects\\\\foss4g-2022\\\\NOTEBOOKS\\\\Introduction\\\\data\\\\CopernicusGlobalLand\\\\LTS\\\\c_gls_NDVI-LTS_1999-2019-0721_GLOBE_VGT-PROBAV_V3.0.1.nc',\n 'C:\\\\Users\\\\Pier\\\\PycharmProjects\\\\foss4g-2022\\\\NOTEBOOKS\\\\Introduction\\\\data\\\\CopernicusGlobalLand\\\\LTS\\\\c_gls_NDVI-LTS_1999-2019-0801_GLOBE_VGT-PROBAV_V3.0.1.nc',\n 'C:\\\\Users\\\\Pier\\\\PycharmProjects\\\\foss4g-2022\\\\NOTEBOOKS\\\\Introduction\\\\data\\\\CopernicusGlobalLand\\\\LTS\\\\c_gls_NDVI-LTS_1999-2019-0811_GLOBE_VGT-PROBAV_V3.0.1.nc',\n 'C:\\\\Users\\\\Pier\\\\PycharmProjects\\\\foss4g-2022\\\\NOTEBOOKS\\\\Introduction\\\\data\\\\CopernicusGlobalLand\\\\LTS\\\\c_gls_NDVI-LTS_1999-2019-0821_GLOBE_VGT-PROBAV_V3.0.1.nc',\n 'C:\\\\Users\\\\Pier\\\\PycharmProjects\\\\foss4g-2022\\\\NOTEBOOKS\\\\Introduction\\\\data\\\\CopernicusGlobalLand\\\\LTS\\\\c_gls_NDVI-LTS_1999-2019-0901_GLOBE_VGT-PROBAV_V3.0.1.nc',\n 'C:\\\\Users\\\\Pier\\\\PycharmProjects\\\\foss4g-2022\\\\NOTEBOOKS\\\\Introduction\\\\data\\\\CopernicusGlobalLand\\\\LTS\\\\c_gls_NDVI-LTS_1999-2019-0911_GLOBE_VGT-PROBAV_V3.0.1.nc',\n 'C:\\\\Users\\\\Pier\\\\PycharmProjects\\\\foss4g-2022\\\\NOTEBOOKS\\\\Introduction\\\\data\\\\CopernicusGlobalLand\\\\LTS\\\\c_gls_NDVI-LTS_1999-2019-0921_GLOBE_VGT-PROBAV_V3.0.1.nc',\n 'C:\\\\Users\\\\Pier\\\\PycharmProjects\\\\foss4g-2022\\\\NOTEBOOKS\\\\Introduction\\\\data\\\\CopernicusGlobalLand\\\\LTS\\\\c_gls_NDVI-LTS_1999-2019-1001_GLOBE_VGT-PROBAV_V3.0.1.nc',\n 'C:\\\\Users\\\\Pier\\\\PycharmProjects\\\\foss4g-2022\\\\NOTEBOOKS\\\\Introduction\\\\data\\\\CopernicusGlobalLand\\\\LTS\\\\c_gls_NDVI-LTS_1999-2019-1011_GLOBE_VGT-PROBAV_V3.0.1.nc',\n 'C:\\\\Users\\\\Pier\\\\PycharmProjects\\\\foss4g-2022\\\\NOTEBOOKS\\\\Introduction\\\\data\\\\CopernicusGlobalLand\\\\LTS\\\\c_gls_NDVI-LTS_1999-2019-1021_GLOBE_VGT-PROBAV_V3.0.1.nc',\n 'C:\\\\Users\\\\Pier\\\\PycharmProjects\\\\foss4g-2022\\\\NOTEBOOKS\\\\Introduction\\\\data\\\\CopernicusGlobalLand\\\\LTS\\\\c_gls_NDVI-LTS_1999-2019-1111_GLOBE_VGT-PROBAV_V3.0.1.nc',\n 'C:\\\\Users\\\\Pier\\\\PycharmProjects\\\\foss4g-2022\\\\NOTEBOOKS\\\\Introduction\\\\data\\\\CopernicusGlobalLand\\\\LTS\\\\c_gls_NDVI-LTS_1999-2019-1101_GLOBE_VGT-PROBAV_V3.0.1.nc',\n 'C:\\\\Users\\\\Pier\\\\PycharmProjects\\\\foss4g-2022\\\\NOTEBOOKS\\\\Introduction\\\\data\\\\CopernicusGlobalLand\\\\LTS\\\\c_gls_NDVI-LTS_1999-2019-1121_GLOBE_VGT-PROBAV_V3.0.1.nc',\n 'C:\\\\Users\\\\Pier\\\\PycharmProjects\\\\foss4g-2022\\\\NOTEBOOKS\\\\Introduction\\\\data\\\\CopernicusGlobalLand\\\\LTS\\\\c_gls_NDVI-LTS_1999-2019-1201_GLOBE_VGT-PROBAV_V3.0.1.nc',\n 'C:\\\\Users\\\\Pier\\\\PycharmProjects\\\\foss4g-2022\\\\NOTEBOOKS\\\\Introduction\\\\data\\\\CopernicusGlobalLand\\\\LTS\\\\c_gls_NDVI-LTS_1999-2019-1221_GLOBE_VGT-PROBAV_V3.0.1.nc',\n 'C:\\\\Users\\\\Pier\\\\PycharmProjects\\\\foss4g-2022\\\\NOTEBOOKS\\\\Introduction\\\\data\\\\CopernicusGlobalLand\\\\LTS\\\\c_gls_NDVI-LTS_1999-2019-1211_GLOBE_VGT-PROBAV_V3.0.1.nc']"
     },
     "execution_count": 41,
     "metadata": {},
     "output_type": "execute_result"
    }
   ],
   "source": [
    "stats.download(path='./data/CopernicusGlobalLand/LTS/', sensor='VGT-PROBAV', date=slice(pd.to_datetime('1999-01-01'),pd.to_datetime('2015-12-21')))"
   ],
   "metadata": {
    "collapsed": false,
    "pycharm": {
     "name": "#%%\n"
    }
   }
  },
  {
   "cell_type": "code",
   "execution_count": null,
   "outputs": [],
   "source": [],
   "metadata": {
    "collapsed": false,
    "pycharm": {
     "name": "#%%\n"
    }
   }
  }
 ],
 "metadata": {
  "kernelspec": {
   "display_name": "Python 3",
   "language": "python",
   "name": "python3"
  },
  "language_info": {
   "codemirror_mode": {
    "name": "ipython",
    "version": 2
   },
   "file_extension": ".py",
   "mimetype": "text/x-python",
   "name": "python",
   "nbconvert_exporter": "python",
   "pygments_lexer": "ipython2",
   "version": "2.7.6"
  }
 },
 "nbformat": 4,
 "nbformat_minor": 0
}