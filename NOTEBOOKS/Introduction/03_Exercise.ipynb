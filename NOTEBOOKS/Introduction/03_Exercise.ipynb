{
 "cells": [
  {
   "cell_type": "code",
   "execution_count": 1,
   "metadata": {
    "collapsed": true,
    "pycharm": {
     "name": "#%%\n"
    }
   },
   "outputs": [
    {
     "ename": "NameError",
     "evalue": "name 'session' is not defined",
     "output_type": "error",
     "traceback": [
      "\u001B[1;31m---------------------------------------------------------------------------\u001B[0m",
      "\u001B[1;31mNameError\u001B[0m                                 Traceback (most recent call last)",
      "Input \u001B[1;32mIn [1]\u001B[0m, in \u001B[0;36m<cell line: 1>\u001B[1;34m()\u001B[0m\n\u001B[1;32m----> 1\u001B[0m \u001B[43msession\u001B[49m\u001B[38;5;241m.\u001B[39mdescribe_collection(\u001B[38;5;124m'\u001B[39m\u001B[38;5;124mGLOBAL_LAND_COVER\u001B[39m\u001B[38;5;124m'\u001B[39m)\n",
      "\u001B[1;31mNameError\u001B[0m: name 'session' is not defined"
     ]
    }
   ],
   "source": [
    "session.describe_collection('GLOBAL_LAND_COVER')"
   ]
  },
  {
   "cell_type": "code",
   "execution_count": 2,
   "outputs": [
    {
     "ename": "NameError",
     "evalue": "name 'session' is not defined",
     "output_type": "error",
     "traceback": [
      "\u001B[1;31m---------------------------------------------------------------------------\u001B[0m",
      "\u001B[1;31mNameError\u001B[0m                                 Traceback (most recent call last)",
      "Input \u001B[1;32mIn [2]\u001B[0m, in \u001B[0;36m<cell line: 1>\u001B[1;34m()\u001B[0m\n\u001B[1;32m----> 1\u001B[0m datacube_LC \u001B[38;5;241m=\u001B[39m \u001B[43msession\u001B[49m\u001B[38;5;241m.\u001B[39mload_collection(\n\u001B[0;32m      2\u001B[0m     \u001B[38;5;124m'\u001B[39m\u001B[38;5;124mGLOBAL_LAND_COVER\u001B[39m\u001B[38;5;124m'\u001B[39m,\n\u001B[0;32m      3\u001B[0m     spatial_extent\u001B[38;5;241m=\u001B[39m{\u001B[38;5;124m\"\u001B[39m\u001B[38;5;124mwest\u001B[39m\u001B[38;5;124m\"\u001B[39m: AOI_min_lon, \u001B[38;5;124m\"\u001B[39m\u001B[38;5;124msouth\u001B[39m\u001B[38;5;124m\"\u001B[39m:AOI_min_lat , \u001B[38;5;124m\"\u001B[39m\u001B[38;5;124meast\u001B[39m\u001B[38;5;124m\"\u001B[39m: AOI_max_lon, \u001B[38;5;124m\"\u001B[39m\u001B[38;5;124mnorth\u001B[39m\u001B[38;5;124m\"\u001B[39m:AOI_max_lat },\n\u001B[0;32m      4\u001B[0m     bands\u001B[38;5;241m=\u001B[39m[\u001B[38;5;124m'\u001B[39m\u001B[38;5;124mDiscrete_Classification_map\u001B[39m\u001B[38;5;124m'\u001B[39m]\n\u001B[0;32m      5\u001B[0m )\n",
      "\u001B[1;31mNameError\u001B[0m: name 'session' is not defined"
     ]
    }
   ],
   "source": [
    "datacube_LC = session.load_collection(\n",
    "    'GLOBAL_LAND_COVER',\n",
    "    spatial_extent={\"west\": AOI_min_lon, \"south\":AOI_min_lat , \"east\": AOI_max_lon, \"north\":AOI_max_lat },\n",
    "    bands=['Discrete_Classification_map']\n",
    ")"
   ],
   "metadata": {
    "collapsed": false,
    "pycharm": {
     "name": "#%%\n"
    }
   }
  },
  {
   "cell_type": "code",
   "execution_count": 3,
   "outputs": [
    {
     "ename": "NameError",
     "evalue": "name 'datacube_LC' is not defined",
     "output_type": "error",
     "traceback": [
      "\u001B[1;31m---------------------------------------------------------------------------\u001B[0m",
      "\u001B[1;31mNameError\u001B[0m                                 Traceback (most recent call last)",
      "Input \u001B[1;32mIn [3]\u001B[0m, in \u001B[0;36m<cell line: 1>\u001B[1;34m()\u001B[0m\n\u001B[1;32m----> 1\u001B[0m \u001B[43mdatacube_LC\u001B[49m\u001B[38;5;241m.\u001B[39mdownload(\u001B[38;5;124mf\u001B[39m\u001B[38;5;124m\"\u001B[39m\u001B[38;5;124mC_GLS_LC_20220101_20220701_\u001B[39m\u001B[38;5;132;01m{\u001B[39;00mAOI_name\u001B[38;5;132;01m}\u001B[39;00m\u001B[38;5;124m_PROBA_3.nc\u001B[39m\u001B[38;5;124m\"\u001B[39m, \u001B[38;5;28mformat\u001B[39m\u001B[38;5;241m=\u001B[39m\u001B[38;5;124m\"\u001B[39m\u001B[38;5;124mNetCDF\u001B[39m\u001B[38;5;124m\"\u001B[39m)\n",
      "\u001B[1;31mNameError\u001B[0m: name 'datacube_LC' is not defined"
     ]
    }
   ],
   "source": [
    "datacube_LC.download(f\"C_GLS_LC_20220101_20220701_{AOI_name}_PROBA_3.nc\", format=\"NetCDF\")"
   ],
   "metadata": {
    "collapsed": false,
    "pycharm": {
     "name": "#%%\n"
    }
   }
  },
  {
   "cell_type": "code",
   "execution_count": 4,
   "outputs": [
    {
     "ename": "NameError",
     "evalue": "name 'xr' is not defined",
     "output_type": "error",
     "traceback": [
      "\u001B[1;31m---------------------------------------------------------------------------\u001B[0m",
      "\u001B[1;31mNameError\u001B[0m                                 Traceback (most recent call last)",
      "Input \u001B[1;32mIn [4]\u001B[0m, in \u001B[0;36m<cell line: 1>\u001B[1;34m()\u001B[0m\n\u001B[1;32m----> 1\u001B[0m cgls_LC\u001B[38;5;241m=\u001B[39m \u001B[43mxr\u001B[49m\u001B[38;5;241m.\u001B[39mopen_dataset(\u001B[38;5;124m'\u001B[39m\u001B[38;5;124mC_GLS_LC_20220101_20220701_CENTRALITALY_3.nc\u001B[39m\u001B[38;5;124m'\u001B[39m)\n",
      "\u001B[1;31mNameError\u001B[0m: name 'xr' is not defined"
     ]
    }
   ],
   "source": [
    "cgls_LC= xr.open_dataset('C_GLS_LC_20220101_20220701_CENTRALITALY_3.nc')"
   ],
   "metadata": {
    "collapsed": false,
    "pycharm": {
     "name": "#%%\n"
    }
   }
  },
  {
   "cell_type": "code",
   "execution_count": 5,
   "outputs": [
    {
     "ename": "NameError",
     "evalue": "name 'cgls_LC' is not defined",
     "output_type": "error",
     "traceback": [
      "\u001B[1;31m---------------------------------------------------------------------------\u001B[0m",
      "\u001B[1;31mNameError\u001B[0m                                 Traceback (most recent call last)",
      "Input \u001B[1;32mIn [5]\u001B[0m, in \u001B[0;36m<cell line: 1>\u001B[1;34m()\u001B[0m\n\u001B[1;32m----> 1\u001B[0m LC_2019 \u001B[38;5;241m=\u001B[39m \u001B[43mcgls_LC\u001B[49m\u001B[38;5;241m.\u001B[39mDiscrete_Classification_map\u001B[38;5;241m.\u001B[39msel(t\u001B[38;5;241m=\u001B[39m\u001B[38;5;124m'\u001B[39m\u001B[38;5;124m2019-01-01\u001B[39m\u001B[38;5;124m'\u001B[39m)\n",
      "\u001B[1;31mNameError\u001B[0m: name 'cgls_LC' is not defined"
     ]
    }
   ],
   "source": [
    "LC_2019 = cgls_LC.Discrete_Classification_map.sel(t='2019-01-01')"
   ],
   "metadata": {
    "collapsed": false,
    "pycharm": {
     "name": "#%%\n"
    }
   }
  },
  {
   "cell_type": "code",
   "execution_count": 6,
   "outputs": [
    {
     "ename": "NameError",
     "evalue": "name 'LC_2019' is not defined",
     "output_type": "error",
     "traceback": [
      "\u001B[1;31m---------------------------------------------------------------------------\u001B[0m",
      "\u001B[1;31mNameError\u001B[0m                                 Traceback (most recent call last)",
      "Input \u001B[1;32mIn [6]\u001B[0m, in \u001B[0;36m<cell line: 1>\u001B[1;34m()\u001B[0m\n\u001B[1;32m----> 1\u001B[0m LC_2019 \u001B[38;5;241m=\u001B[39m \u001B[43mLC_2019\u001B[49m\u001B[38;5;241m.\u001B[39mrio\u001B[38;5;241m.\u001B[39mwrite_crs(\u001B[38;5;241m4326\u001B[39m)\n",
      "\u001B[1;31mNameError\u001B[0m: name 'LC_2019' is not defined"
     ]
    }
   ],
   "source": [
    "LC_2019 = LC_2019.rio.write_crs(4326)"
   ],
   "metadata": {
    "collapsed": false,
    "pycharm": {
     "name": "#%%\n"
    }
   }
  },
  {
   "cell_type": "code",
   "execution_count": 7,
   "outputs": [
    {
     "ename": "NameError",
     "evalue": "name 'LC_2019' is not defined",
     "output_type": "error",
     "traceback": [
      "\u001B[1;31m---------------------------------------------------------------------------\u001B[0m",
      "\u001B[1;31mNameError\u001B[0m                                 Traceback (most recent call last)",
      "Input \u001B[1;32mIn [7]\u001B[0m, in \u001B[0;36m<cell line: 1>\u001B[1;34m()\u001B[0m\n\u001B[1;32m----> 1\u001B[0m LC_2019 \u001B[38;5;241m=\u001B[39m \u001B[43mLC_2019\u001B[49m\u001B[38;5;241m.\u001B[39mrio\u001B[38;5;241m.\u001B[39mreproject_match(LTS)\n",
      "\u001B[1;31mNameError\u001B[0m: name 'LC_2019' is not defined"
     ]
    }
   ],
   "source": [
    "LC_2019 = LC_2019.rio.reproject_match(LTS)"
   ],
   "metadata": {
    "collapsed": false,
    "pycharm": {
     "name": "#%%\n"
    }
   }
  },
  {
   "cell_type": "code",
   "execution_count": 8,
   "outputs": [
    {
     "ename": "NameError",
     "evalue": "name 'LC_2019' is not defined",
     "output_type": "error",
     "traceback": [
      "\u001B[1;31m---------------------------------------------------------------------------\u001B[0m",
      "\u001B[1;31mNameError\u001B[0m                                 Traceback (most recent call last)",
      "Input \u001B[1;32mIn [8]\u001B[0m, in \u001B[0;36m<cell line: 1>\u001B[1;34m()\u001B[0m\n\u001B[1;32m----> 1\u001B[0m \u001B[43mLC_2019\u001B[49m\n",
      "\u001B[1;31mNameError\u001B[0m: name 'LC_2019' is not defined"
     ]
    }
   ],
   "source": [
    "LC_2019"
   ],
   "metadata": {
    "collapsed": false,
    "pycharm": {
     "name": "#%%\n"
    }
   }
  },
  {
   "cell_type": "code",
   "execution_count": 9,
   "outputs": [
    {
     "ename": "NameError",
     "evalue": "name 'xr' is not defined",
     "output_type": "error",
     "traceback": [
      "\u001B[1;31m---------------------------------------------------------------------------\u001B[0m",
      "\u001B[1;31mNameError\u001B[0m                                 Traceback (most recent call last)",
      "Input \u001B[1;32mIn [9]\u001B[0m, in \u001B[0;36m<cell line: 1>\u001B[1;34m()\u001B[0m\n\u001B[1;32m----> 1\u001B[0m urban_mask \u001B[38;5;241m=\u001B[39m \u001B[43mxr\u001B[49m\u001B[38;5;241m.\u001B[39mwhere(LC_2019 \u001B[38;5;241m==\u001B[39m \u001B[38;5;241m50\u001B[39m, \u001B[38;5;28;01mFalse\u001B[39;00m, \u001B[38;5;28;01mTrue\u001B[39;00m)\u001B[38;5;241m.\u001B[39mrename({\u001B[38;5;124m'\u001B[39m\u001B[38;5;124mx\u001B[39m\u001B[38;5;124m'\u001B[39m: \u001B[38;5;124m'\u001B[39m\u001B[38;5;124mlon\u001B[39m\u001B[38;5;124m'\u001B[39m, \u001B[38;5;124m'\u001B[39m\u001B[38;5;124my\u001B[39m\u001B[38;5;124m'\u001B[39m:\u001B[38;5;124m'\u001B[39m\u001B[38;5;124mlat\u001B[39m\u001B[38;5;124m'\u001B[39m})\n",
      "\u001B[1;31mNameError\u001B[0m: name 'xr' is not defined"
     ]
    }
   ],
   "source": [
    "urban_mask = xr.where(LC_2019 == 50, False, True).rename({'x': 'lon', 'y':'lat'})"
   ],
   "metadata": {
    "collapsed": false,
    "pycharm": {
     "name": "#%%\n"
    }
   }
  },
  {
   "cell_type": "code",
   "execution_count": 10,
   "outputs": [
    {
     "ename": "NameError",
     "evalue": "name 'urban_mask' is not defined",
     "output_type": "error",
     "traceback": [
      "\u001B[1;31m---------------------------------------------------------------------------\u001B[0m",
      "\u001B[1;31mNameError\u001B[0m                                 Traceback (most recent call last)",
      "Input \u001B[1;32mIn [10]\u001B[0m, in \u001B[0;36m<cell line: 1>\u001B[1;34m()\u001B[0m\n\u001B[1;32m----> 1\u001B[0m \u001B[43murban_mask\u001B[49m\u001B[38;5;241m.\u001B[39mhvplot(width\u001B[38;5;241m=\u001B[39m\u001B[38;5;241m800\u001B[39m, height\u001B[38;5;241m=\u001B[39m\u001B[38;5;241m700\u001B[39m)\n",
      "\u001B[1;31mNameError\u001B[0m: name 'urban_mask' is not defined"
     ]
    }
   ],
   "source": [
    "urban_mask.hvplot(width=800, height=700)"
   ],
   "metadata": {
    "collapsed": false,
    "pycharm": {
     "name": "#%%\n"
    }
   }
  },
  {
   "cell_type": "code",
   "execution_count": 11,
   "outputs": [
    {
     "ename": "NameError",
     "evalue": "name 'VCI' is not defined",
     "output_type": "error",
     "traceback": [
      "\u001B[1;31m---------------------------------------------------------------------------\u001B[0m",
      "\u001B[1;31mNameError\u001B[0m                                 Traceback (most recent call last)",
      "Input \u001B[1;32mIn [11]\u001B[0m, in \u001B[0;36m<cell line: 1>\u001B[1;34m()\u001B[0m\n\u001B[1;32m----> 1\u001B[0m VCI_masked \u001B[38;5;241m=\u001B[39m \u001B[43mVCI\u001B[49m\u001B[38;5;241m.\u001B[39mwhere(urban_mask)\n",
      "\u001B[1;31mNameError\u001B[0m: name 'VCI' is not defined"
     ]
    }
   ],
   "source": [
    "VCI_masked = VCI.where(urban_mask)"
   ],
   "metadata": {
    "collapsed": false,
    "pycharm": {
     "name": "#%%\n"
    }
   }
  },
  {
   "cell_type": "code",
   "execution_count": 12,
   "outputs": [
    {
     "ename": "NameError",
     "evalue": "name 'VCI_masked' is not defined",
     "output_type": "error",
     "traceback": [
      "\u001B[1;31m---------------------------------------------------------------------------\u001B[0m",
      "\u001B[1;31mNameError\u001B[0m                                 Traceback (most recent call last)",
      "Input \u001B[1;32mIn [12]\u001B[0m, in \u001B[0;36m<cell line: 1>\u001B[1;34m()\u001B[0m\n\u001B[1;32m----> 1\u001B[0m \u001B[43mVCI_masked\u001B[49m\u001B[38;5;241m.\u001B[39mname \u001B[38;5;241m=\u001B[39m \u001B[38;5;124m'\u001B[39m\u001B[38;5;124mVCI masked\u001B[39m\u001B[38;5;124m'\u001B[39m\n",
      "\u001B[1;31mNameError\u001B[0m: name 'VCI_masked' is not defined"
     ]
    }
   ],
   "source": [
    "VCI_masked.name = 'VCI masked'"
   ],
   "metadata": {
    "collapsed": false,
    "pycharm": {
     "name": "#%%\n"
    }
   }
  },
  {
   "cell_type": "code",
   "execution_count": 13,
   "outputs": [
    {
     "ename": "NameError",
     "evalue": "name 'VCI_masked' is not defined",
     "output_type": "error",
     "traceback": [
      "\u001B[1;31m---------------------------------------------------------------------------\u001B[0m",
      "\u001B[1;31mNameError\u001B[0m                                 Traceback (most recent call last)",
      "Input \u001B[1;32mIn [13]\u001B[0m, in \u001B[0;36m<cell line: 1>\u001B[1;34m()\u001B[0m\n\u001B[1;32m----> 1\u001B[0m \u001B[43mVCI_masked\u001B[49m\u001B[38;5;241m.\u001B[39misel(time\u001B[38;5;241m=\u001B[39m\u001B[38;5;241m0\u001B[39m)\u001B[38;5;241m.\u001B[39mhvplot(cmap\u001B[38;5;241m=\u001B[39m\u001B[38;5;124m'\u001B[39m\u001B[38;5;124mRdYlGn\u001B[39m\u001B[38;5;124m'\u001B[39m, alpha\u001B[38;5;241m=\u001B[39m\u001B[38;5;241m0.7\u001B[39m,\n\u001B[0;32m      2\u001B[0m                                   geo\u001B[38;5;241m=\u001B[39m\u001B[38;5;28;01mTrue\u001B[39;00m, tiles\u001B[38;5;241m=\u001B[39m \u001B[38;5;124m'\u001B[39m\u001B[38;5;124mCartoLight\u001B[39m\u001B[38;5;124m'\u001B[39m,\n\u001B[0;32m      3\u001B[0m                                   width\u001B[38;5;241m=\u001B[39m\u001B[38;5;241m800\u001B[39m, height\u001B[38;5;241m=\u001B[39m\u001B[38;5;241m700\u001B[39m,)\n",
      "\u001B[1;31mNameError\u001B[0m: name 'VCI_masked' is not defined"
     ]
    }
   ],
   "source": [
    "VCI_masked.isel(time=0).hvplot(cmap='RdYlGn', alpha=0.7,\n",
    "                                  geo=True, tiles= 'CartoLight',\n",
    "                                  width=800, height=700,)"
   ],
   "metadata": {
    "collapsed": false,
    "pycharm": {
     "name": "#%%\n"
    }
   }
  },
  {
   "cell_type": "code",
   "execution_count": null,
   "outputs": [],
   "source": [],
   "metadata": {
    "collapsed": false,
    "pycharm": {
     "name": "#%%\n"
    }
   }
  }
 ],
 "metadata": {
  "kernelspec": {
   "display_name": "Python 3",
   "language": "python",
   "name": "python3"
  },
  "language_info": {
   "codemirror_mode": {
    "name": "ipython",
    "version": 2
   },
   "file_extension": ".py",
   "mimetype": "text/x-python",
   "name": "python",
   "nbconvert_exporter": "python",
   "pygments_lexer": "ipython2",
   "version": "2.7.6"
  }
 },
 "nbformat": 4,
 "nbformat_minor": 0
}